{
 "cells": [
  {
   "cell_type": "code",
   "execution_count": 106,
   "metadata": {},
   "outputs": [],
   "source": [
    "class RUNE:\n",
    "    def __init__(self,mana=0,next_rune=None,location=None):\n",
    "        self.mana=mana\n",
    "        self.next_rune=next_rune\n",
    "        self.location=location\n",
    "    \n",
    "    def effect_world(self, world):\n",
    "        print(\"magic\")\n",
    "    \n",
    "    def represent_thing(self, obj):\n",
    "        return True\n",
    "    \n",
    "    def modify_spell(self, rune):\n",
    "        print(\"arcane\")\n",
    "    \n",
    "    def magic(self):\n",
    "        self.mana-=1\n",
    "        if self.mana<=0:\n",
    "            print(\"failure\")\n",
    "            return None\n",
    "        \n",
    "        if self.next_rune is None:\n",
    "            self.effect_world(self.location)\n",
    "        \n",
    "        if isinstance(self.next_rune,RUNE):\n",
    "            self.modify_spell(self.next_rune)\n",
    "            self.next_rune.magic()\n",
    "            \n",
    "        return None\n",
    "        \n",
    "    "
   ]
  },
  {
   "cell_type": "code",
   "execution_count": 107,
   "metadata": {},
   "outputs": [],
   "source": [
    "class PUSH(RUNE):\n",
    "    def effect_world(self, world):\n",
    "        print(\"push\")\n",
    "    \n",
    "    def represent_thing(self, obj):\n",
    "        return True\n",
    "    \n",
    "    def modify_spell(self, rune):\n",
    "        print(\"far\")"
   ]
  },
  {
   "cell_type": "code",
   "execution_count": 108,
   "metadata": {},
   "outputs": [],
   "source": [
    "class FIRE(RUNE):\n",
    "    def effect_world(self, world):\n",
    "        print(\"grill\")\n",
    "    \n",
    "    def represent_thing(self, obj):\n",
    "        return True\n",
    "    \n",
    "    def modify_spell(self, rune):\n",
    "        print(\"hot\")"
   ]
  },
  {
   "cell_type": "code",
   "execution_count": 109,
   "metadata": {},
   "outputs": [
    {
     "name": "stdout",
     "output_type": "stream",
     "text": [
      "push\n"
     ]
    }
   ],
   "source": [
    "runa=PUSH(4)\n",
    "runa.magic()"
   ]
  },
  {
   "cell_type": "code",
   "execution_count": 110,
   "metadata": {},
   "outputs": [
    {
     "name": "stdout",
     "output_type": "stream",
     "text": [
      "far\n",
      "failure\n"
     ]
    }
   ],
   "source": [
    "runa=PUSH(4,FIRE(1))\n",
    "runa.magic()"
   ]
  },
  {
   "cell_type": "code",
   "execution_count": 111,
   "metadata": {},
   "outputs": [
    {
     "name": "stdout",
     "output_type": "stream",
     "text": [
      "far\n",
      "grill\n"
     ]
    }
   ],
   "source": [
    "runa=PUSH(4,FIRE(3))\n",
    "runa.magic()"
   ]
  },
  {
   "cell_type": "code",
   "execution_count": 112,
   "metadata": {},
   "outputs": [
    {
     "name": "stdout",
     "output_type": "stream",
     "text": [
      "far\n",
      "hot\n",
      "magic\n"
     ]
    }
   ],
   "source": [
    "runa=PUSH(4,FIRE(4,RUNE(2)))\n",
    "runa.magic()"
   ]
  },
  {
   "cell_type": "code",
   "execution_count": 113,
   "metadata": {},
   "outputs": [
    {
     "name": "stdout",
     "output_type": "stream",
     "text": [
      "magic\n"
     ]
    }
   ],
   "source": [
    "runa=RUNE(4)\n",
    "runa.magic()"
   ]
  },
  {
   "cell_type": "code",
   "execution_count": null,
   "metadata": {},
   "outputs": [],
   "source": []
  }
 ],
 "metadata": {
  "kernelspec": {
   "display_name": "Python 3",
   "language": "python",
   "name": "python3"
  },
  "language_info": {
   "codemirror_mode": {
    "name": "ipython",
    "version": 3
   },
   "file_extension": ".py",
   "mimetype": "text/x-python",
   "name": "python",
   "nbconvert_exporter": "python",
   "pygments_lexer": "ipython3",
   "version": "3.8.5"
  }
 },
 "nbformat": 4,
 "nbformat_minor": 4
}
