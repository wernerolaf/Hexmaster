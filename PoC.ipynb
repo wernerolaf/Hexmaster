{
 "cells": [
  {
   "cell_type": "code",
   "execution_count": 1,
   "metadata": {},
   "outputs": [],
   "source": [
    "class RUNE:\n",
    "    def __init__(self,mana=0,next_rune=None,location=None):\n",
    "        self.mana=mana\n",
    "        self.next_rune=next_rune\n",
    "        self.location=location\n",
    "    \n",
    "    def effect_world(self, world):\n",
    "        print(\"magic\")\n",
    "    \n",
    "    def represent_thing(self, obj):\n",
    "        return True\n",
    "    \n",
    "    def modify_spell(self, rune):\n",
    "        print(\"arcane\")\n",
    "    \n",
    "    def magic(self):\n",
    "        self.mana-=1\n",
    "        if self.mana<=0:\n",
    "            print(\"failure\")\n",
    "            return None\n",
    "        \n",
    "        if self.next_rune is None:\n",
    "            self.effect_world(self.location)\n",
    "        \n",
    "        if isinstance(self.next_rune,RUNE):\n",
    "            self.modify_spell(self.next_rune)\n",
    "            self.next_rune.magic()\n",
    "            \n",
    "        return None\n",
    "        \n",
    "    "
   ]
  },
  {
   "cell_type": "code",
   "execution_count": 2,
   "metadata": {},
   "outputs": [],
   "source": [
    "class PUSH(RUNE):\n",
    "    def effect_world(self, world):\n",
    "        print(\"push\")\n",
    "    \n",
    "    def represent_thing(self, obj):\n",
    "        return True\n",
    "    \n",
    "    def modify_spell(self, rune):\n",
    "        print(\"far\")"
   ]
  },
  {
   "cell_type": "code",
   "execution_count": 3,
   "metadata": {},
   "outputs": [],
   "source": [
    "class FIRE(RUNE):\n",
    "    def effect_world(self, world):\n",
    "        print(\"grill\")\n",
    "    \n",
    "    def represent_thing(self, obj):\n",
    "        return True\n",
    "    \n",
    "    def modify_spell(self, rune):\n",
    "        print(\"hot\")"
   ]
  },
  {
   "cell_type": "code",
   "execution_count": 4,
   "metadata": {},
   "outputs": [
    {
     "name": "stdout",
     "output_type": "stream",
     "text": [
      "push\n"
     ]
    }
   ],
   "source": [
    "runa=PUSH(4)\n",
    "runa.magic()"
   ]
  },
  {
   "cell_type": "code",
   "execution_count": 5,
   "metadata": {},
   "outputs": [
    {
     "name": "stdout",
     "output_type": "stream",
     "text": [
      "far\n",
      "failure\n"
     ]
    }
   ],
   "source": [
    "runa=PUSH(4,FIRE(1))\n",
    "runa.magic()"
   ]
  },
  {
   "cell_type": "code",
   "execution_count": 6,
   "metadata": {},
   "outputs": [
    {
     "name": "stdout",
     "output_type": "stream",
     "text": [
      "far\n",
      "grill\n"
     ]
    }
   ],
   "source": [
    "runa=PUSH(4,FIRE(3))\n",
    "runa.magic()"
   ]
  },
  {
   "cell_type": "code",
   "execution_count": 7,
   "metadata": {},
   "outputs": [
    {
     "name": "stdout",
     "output_type": "stream",
     "text": [
      "far\n",
      "hot\n",
      "magic\n"
     ]
    }
   ],
   "source": [
    "runa=PUSH(4,FIRE(4,RUNE(2)))\n",
    "runa.magic()"
   ]
  },
  {
   "cell_type": "code",
   "execution_count": 8,
   "metadata": {},
   "outputs": [
    {
     "name": "stdout",
     "output_type": "stream",
     "text": [
      "magic\n"
     ]
    }
   ],
   "source": [
    "runa=RUNE(4)\n",
    "runa.magic()"
   ]
  },
  {
   "cell_type": "code",
   "execution_count": 9,
   "metadata": {},
   "outputs": [
    {
     "data": {
      "text/plain": [
       "'_@_**_'"
      ]
     },
     "execution_count": 9,
     "metadata": {},
     "output_type": "execute_result"
    }
   ],
   "source": [
    "\"_@_**_\""
   ]
  },
  {
   "cell_type": "markdown",
   "metadata": {},
   "source": [
    "# testing hexagons"
   ]
  },
  {
   "cell_type": "code",
   "execution_count": 1,
   "metadata": {},
   "outputs": [
    {
     "name": "stdout",
     "output_type": "stream",
     "text": [
      "pygame 2.1.2 (SDL 2.0.16, Python 3.8.5)\n",
      "Hello from the pygame community. https://www.pygame.org/contribute.html\n"
     ]
    }
   ],
   "source": [
    "# Import the pygame module\n",
    "import pygame\n",
    "import random\n",
    "import copy\n",
    "\n",
    "# Import pygame.locals for easier access to key coordinates\n",
    "# Updated to conform to flake8 and black standards\n",
    "from pygame.locals import (\n",
    "    RLEACCEL,\n",
    "    MOUSEBUTTONDOWN,\n",
    "    MOUSEBUTTONUP,\n",
    "    K_UP,\n",
    "    K_s,\n",
    "    K_r,\n",
    "    K_m,\n",
    "    K_DOWN,\n",
    "    K_LEFT,\n",
    "    K_RIGHT,\n",
    "    K_ESCAPE,\n",
    "    K_SPACE,\n",
    "    KEYDOWN,\n",
    "    QUIT,\n",
    ")\n",
    "\n",
    "\n",
    "# Define constants for the screen width and height\n",
    "SCREEN_WIDTH = 800\n",
    "SCREEN_HEIGHT = 600"
   ]
  },
  {
   "cell_type": "code",
   "execution_count": 2,
   "metadata": {},
   "outputs": [],
   "source": [
    "# Define a player object by extending pygame.sprite.Sprite\n",
    "# The surface drawn on the screen is now an attribute of 'player'\n",
    "class Mage(pygame.sprite.Sprite):\n",
    "    def __init__(self):\n",
    "        super(Mage, self).__init__()\n",
    "        self.surf = pygame.image.load(\"assets/WizardSprite.png\").convert_alpha()\n",
    "        self.surf.set_colorkey(None, RLEACCEL)\n",
    "        self.mask=pygame.mask.from_surface(self.surf)\n",
    "        self.rect = self.surf.get_rect()\n",
    "            \n",
    "    def set_position(self,position):\n",
    "        self.rect = self.surf.get_rect(center=position)"
   ]
  },
  {
   "cell_type": "code",
   "execution_count": 3,
   "metadata": {},
   "outputs": [],
   "source": [
    "# -*- coding: utf-8 -*-\n",
    "\"\"\"\n",
    "Created on Sun Jan 23 13:50:07 2022\n",
    "@author: richa\n",
    "\"\"\"\n",
    "import random\n",
    "from typing import List\n",
    "from typing import Tuple\n",
    "\n",
    "import pygame\n",
    "from hexagon import FlatTopHexagonTile\n",
    "from hexagon import HexagonTile\n",
    "\n",
    "# pylint: disable=no-member\n",
    "\n",
    "\n",
    "def create_hexagon(position, radius=50, flat_top=False) -> HexagonTile:\n",
    "    \"\"\"Creates a hexagon tile at the specified position\"\"\"\n",
    "    class_ = FlatTopHexagonTile if flat_top else HexagonTile\n",
    "    return class_(radius, position, colour=get_random_colour())\n",
    "\n",
    "\n",
    "def get_random_colour(min_=150, max_=151) -> Tuple[int, ...]:\n",
    "    \"\"\"Returns a random RGB colour with each component between min_ and max_\"\"\"\n",
    "    return tuple(random.choices(list(range(min_, max_)), k=3))\n",
    "\n",
    "\n",
    "def init_hexagons(num_x=9, num_y=6, flat_top=False) -> List[HexagonTile]:\n",
    "    \"\"\"Creates a hexaogonal tile map of size num_x * num_y\"\"\"\n",
    "    # pylint: disable=invalid-name\n",
    "    leftmost_hexagon = create_hexagon(position=(30, 10), flat_top=flat_top)\n",
    "    hexagons = [leftmost_hexagon]\n",
    "    for x in range(num_y):\n",
    "        if x:\n",
    "            # alternate between bottom left and bottom right vertices of hexagon above\n",
    "            index = 2 if x % 2 == 1 or flat_top else 4\n",
    "            position = leftmost_hexagon.vertices[index]\n",
    "            leftmost_hexagon = create_hexagon(position, flat_top=flat_top)\n",
    "            hexagons.append(leftmost_hexagon)\n",
    "\n",
    "        # place hexagons to the left of leftmost hexagon, with equal y-values.\n",
    "        hexagon = leftmost_hexagon\n",
    "        for i in range(num_x):\n",
    "            x, y = hexagon.position  # type: ignore\n",
    "            if flat_top:\n",
    "                if i % 2 == 1:\n",
    "                    position = (x + hexagon.radius * 3 / 2, y - hexagon.minimal_radius)\n",
    "                else:\n",
    "                    position = (x + hexagon.radius * 3 / 2, y + hexagon.minimal_radius)\n",
    "            else:\n",
    "                position = (x + hexagon.minimal_radius * 2, y)\n",
    "            hexagon = create_hexagon(position, flat_top=flat_top)\n",
    "            hexagons.append(hexagon)\n",
    "\n",
    "    return hexagons\n",
    "\n",
    "\n",
    "def render_hexagons(screen, hexagons):\n",
    "    \"\"\"Renders hexagons on the screen\"\"\"\n",
    "    \n",
    "    #draw hexagons\n",
    "    for hexagon in hexagons:\n",
    "        hexagon.render(screen)\n",
    "        hexagon.render_highlight(screen, border_colour=(50, 50, 50))\n",
    "\n",
    "    # draw borders around colliding hexagons and neighbours\n",
    "    mouse_pos = pygame.mouse.get_pos()\n",
    "    colliding_hexagons = [\n",
    "        hexagon for hexagon in hexagons if hexagon.collide_with_point(mouse_pos)\n",
    "    ]\n",
    "    for hexagon in colliding_hexagons:\n",
    "        for neighbour in hexagon.compute_neighbours(hexagons):\n",
    "            neighbour.render_highlight(screen, border_colour=(50, 50, 50))\n",
    "        hexagon.render_highlight(screen, border_colour=(255, 0, 0))"
   ]
  },
  {
   "cell_type": "code",
   "execution_count": null,
   "metadata": {},
   "outputs": [],
   "source": [
    "def main():\n",
    "    \"\"\"Main function\"\"\"\n",
    "    pygame.init()\n",
    "    screen = pygame.display.set_mode((SCREEN_WIDTH, SCREEN_HEIGHT))\n",
    "    clock = pygame.time.Clock()\n",
    "    hexagons = init_hexagons(flat_top=True)\n",
    "    mage=Mage()\n",
    "    mage.set_position(hexagons[25].centre)\n",
    "    running = True\n",
    "    \n",
    "    while running:\n",
    "        # for loop through the event queue\n",
    "        for event in pygame.event.get():\n",
    "\n",
    "            # Check for KEYDOWN event\n",
    "            if event.type == KEYDOWN:\n",
    "                # If the Esc key is pressed, then exit the main loop\n",
    "                if event.key == K_ESCAPE:\n",
    "                    running = False\n",
    "\n",
    "            # Check for QUIT event. If QUIT, then set running to false.\n",
    "            elif event.type == QUIT:\n",
    "                running = False\n",
    "\n",
    "            if event.type == MOUSEBUTTONDOWN:\n",
    "                # get a list of all sprites that are under the mouse cursor\n",
    "                pos = pygame.mouse.get_pos()\n",
    "                print(pos)\n",
    "                \n",
    "        for hexagon in hexagons:\n",
    "            hexagon.update()\n",
    "\n",
    "        #drawing\n",
    "        screen.fill((0, 0, 0))\n",
    "        #draw hexagons\n",
    "        render_hexagons(screen, hexagons)\n",
    "        #draw mage\n",
    "        screen.blit(mage.surf, mage.rect)\n",
    "        pygame.display.flip()\n",
    "        #FPS\n",
    "        clock.tick(30)\n",
    "        \n",
    "    pygame.display.quit()\n",
    "\n",
    "\n",
    "if __name__ == \"__main__\":\n",
    "    main()"
   ]
  },
  {
   "cell_type": "code",
   "execution_count": null,
   "metadata": {},
   "outputs": [],
   "source": []
  }
 ],
 "metadata": {
  "kernelspec": {
   "display_name": "Python 3",
   "language": "python",
   "name": "python3"
  },
  "language_info": {
   "codemirror_mode": {
    "name": "ipython",
    "version": 3
   },
   "file_extension": ".py",
   "mimetype": "text/x-python",
   "name": "python",
   "nbconvert_exporter": "python",
   "pygments_lexer": "ipython3",
   "version": "3.8.5"
  }
 },
 "nbformat": 4,
 "nbformat_minor": 4
}
